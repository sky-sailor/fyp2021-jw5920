{
 "cells": [
  {
   "cell_type": "markdown",
   "metadata": {
    "collapsed": true,
    "pycharm": {
     "name": "#%% md\n"
    }
   },
   "source": [
    "# SQI Clustering using K-Means\n",
    "\n",
    "The K-Means algorithm clusters data by trying to separate samples in n groups of equal\n",
    "variance, minimizing a criterion known as the inertia or within-cluster sum-of-squares.\n",
    "This algorithm requires the number of clusters to be specified. It scales\n",
    "well to large number of samples and has been used across a large range of application\n",
    "areas in many different fields.\n",
    "\n",
    "## 1. SQI calculation\n",
    "courtesy of https://meta00.github.io/vital_sqi/_examples/others/plot_pipeline_02.html"
   ]
  },
  {
   "cell_type": "code",
   "execution_count": 1,
   "outputs": [
    {
     "name": "stderr",
     "output_type": "stream",
     "text": [
      "d:\\python3\\fyp2021venv\\lib\\site-packages\\statsmodels-0.12.2-py3.7-win-amd64.egg\\statsmodels\\tsa\\stattools.py:671: FutureWarning: fft=True will become the default after the release of the 0.12 release of statsmodels. To suppress this warning, explicitly set fft=False.\n",
      "  FutureWarning,\n"
     ]
    },
    {
     "name": "stdout",
     "output_type": "stream",
     "text": [
      "Data points used for clustering: sqis.PLETH\n",
      "                            skew  kurtosis       snr       mcr\n",
      "timedelta                                                     \n",
      "0 days 00:05:00.010000  0.017485 -1.062043  2.167699  0.026676\n",
      "0 days 00:05:30.010000 -0.128448 -1.069134  2.047278  0.027009\n",
      "0 days 00:06:00.010000 -0.141570 -1.106822  1.985901  0.026676\n",
      "0 days 00:06:30.010000  0.090379 -1.036433  1.938730  0.026676\n",
      "0 days 00:07:00.010000 -0.056560 -1.121963  1.943096  0.027009\n",
      "0 days 00:07:30.010000 -0.088541 -0.901183  2.067898  0.027009\n",
      "0 days 00:08:00.010000 -0.125679 -0.892545  2.146677  0.027009\n",
      "0 days 00:08:30.010000  0.005239 -1.108326  1.882688  0.026676\n",
      "0 days 00:09:00.010000 -0.019300 -1.039623  2.118613  0.025675\n",
      "0 days 00:09:30.010000 -0.020004 -1.113730  1.989773  0.026676\n",
      "0 days 00:10:00.010000 -0.020216 -1.129955  1.929146  0.026009\n",
      "0 days 00:10:30.010000 -0.009143 -1.161163  1.876142  0.026676\n",
      "0 days 00:11:00.010000  0.031969 -0.872736  2.170920  0.026342\n",
      "0 days 00:11:30.010000  0.042443 -1.091022  1.861906  0.026009\n",
      "0 days 00:12:00.010000 -0.075517 -1.127415  1.938035  0.026342\n",
      "0 days 00:12:30.010000  0.091921 -1.004198  1.936708  0.026676\n",
      "0 days 00:13:00.010000  0.045561 -1.033320  1.909824  0.025675\n",
      "0 days 00:13:30.010000  0.114428 -0.910684  1.909068  0.026676\n",
      "0 days 00:14:00.010000 -0.086820 -0.862715  2.213764  0.026342\n",
      "0 days 00:14:30.010000 -0.001677 -0.822293  2.057223  0.026009\n",
      "0 days 00:15:00.010000 -0.058609 -1.101965  1.897305  0.026342\n",
      "0 days 00:15:30.010000 -0.081411 -1.094815  2.027192  0.027342\n",
      "0 days 00:16:00.010000 -0.185429 -0.948538  2.080749  0.027676\n",
      "0 days 00:16:30.010000 -0.151986 -1.052392  1.980562  0.026676\n",
      "0 days 00:17:00.010000 -0.144776 -1.155645  1.924748  0.027342\n",
      "0 days 00:17:30.010000 -0.168643 -1.143799  1.924252  0.024675\n",
      "0 days 00:18:00.010000 -0.051909 -1.086859  1.927177  0.025675\n",
      "0 days 00:18:30.010000  0.157256 -1.216264  1.886324  0.026676\n",
      "0 days 00:19:00.010000 -0.041492 -1.171736  1.950787  0.026676\n",
      "0 days 00:19:30.010000 -0.137785 -1.065067  1.995482  0.027009\n",
      "0 days 00:20:00.010000 -0.049646 -0.843142  2.110666  0.025342\n",
      "0 days 00:20:30.010000 -0.215983 -1.130197  1.970428  0.025675\n",
      "0 days 00:21:00.010000 -0.086080 -1.206474  1.788646  0.027009\n",
      "0 days 00:21:30.010000 -0.179530 -0.951883  2.088209  0.020674\n",
      "0 days 00:22:00.010000 -0.145254 -1.112611  1.991280  0.027009\n",
      "0 days 00:22:30.010000  0.005726 -0.949916  1.954598  0.026676\n",
      "0 days 00:23:00.010000 -0.165560 -1.065588  2.001502  0.026009\n",
      "0 days 00:23:30.010000 -0.067278 -1.202147  1.848043  0.027342\n",
      "0 days 00:24:00.010000 -0.131769 -1.050141  2.002864  0.026009\n",
      "0 days 00:24:30.010000 -0.121068 -1.130610  1.971511  0.027342\n",
      "0 days 00:25:00.010000 -0.113070 -1.150039  1.920672  0.026676\n",
      "0 days 00:25:30.010000 -0.161062 -1.008414  2.031378  0.026676\n",
      "0 days 00:26:00.010000 -0.510195 -0.306826  2.579572  0.025342\n",
      "0 days 00:26:30.010000 -0.171228 -0.888348  2.226478  0.027342\n",
      "0 days 00:27:00.010000 -0.035400 -1.167259  1.890918  0.027009\n",
      "0 days 00:27:30.010000 -0.049221 -0.970232  2.044835  0.026676\n",
      "0 days 00:28:00.010000  0.000970 -1.092526  1.866270  0.026859\n"
     ]
    }
   ],
   "source": [
    "# Libraries\n",
    "# Generic\n",
    "import os\n",
    "import numpy as np\n",
    "import pandas as pd\n",
    "import matplotlib.pyplot as plt\n",
    "\n",
    "# Scipy\n",
    "from scipy.stats import skew\n",
    "from scipy.stats import kurtosis\n",
    "from scipy.stats import entropy\n",
    "\n",
    "# Scikit-learn\n",
    "from sklearn.cluster import KMeans\n",
    "\n",
    "# 3D projection\n",
    "from mpl_toolkits.mplot3d import Axes3D\n",
    "\n",
    "# Heartpy\n",
    "import heartpy as hp\n",
    "\n",
    "# Plotly\n",
    "import plotly.graph_objects as go\n",
    "from plotly.subplots import make_subplots\n",
    "\n",
    "# vitalSQI\n",
    "from vital_sqi.data.signal_io import ECG_reader\n",
    "from vital_sqi.data.signal_io import PPG_reader\n",
    "from vital_sqi.dataset import load_ppg, load_ecg\n",
    "\n",
    "TERMINAL = True\n",
    "\n",
    "# Data path\n",
    "filepath = 'D:/IC Final Year Project/OUCRU/adults/01NVa-003-2001/PPG'\n",
    "filename = '01NVa-003-2001 Smartcare.csv'\n",
    "\n",
    "# Load patient data\n",
    "signals = pd.read_csv(os.path.join(filepath, filename),\n",
    "                      nrows=200000)\n",
    "\n",
    "# Calculate sampling rate\n",
    "fs = 1 / (signals.TIMESTAMP_MS.diff().median() * 0.001)\n",
    "\n",
    "# Datetime start\n",
    "start_datetime = '2021-01-01 17:00:00'\n",
    "\n",
    "# Format the data\n",
    "\n",
    "# Display (shows timedelta aligned)\n",
    "pd.Timedelta.__str__ = lambda x: x._repr_base('all')\n",
    "\n",
    "# Include column with index\n",
    "signals = signals.reset_index()\n",
    "\n",
    "signals['timedelta'] = \\\n",
    "    pd.to_timedelta(signals.TIMESTAMP_MS, unit='ms')\n",
    "\n",
    "# Create datetimes (if needed)\n",
    "signals['date'] = pd.to_datetime(start_datetime)\n",
    "signals['date'] += pd.to_timedelta(signals.timedelta)\n",
    "\n",
    "# Set the timedelta index (keep numeric index too)\n",
    "signals = signals.set_index('timedelta')\n",
    "\n",
    "# Rename column index to avoid confusion\n",
    "signals = signals.rename(columns={'index': 'idx'})\n",
    "\n",
    "# Create figure\n",
    "# fig = go.Figure(go.Scatter(\n",
    "#     x=signals.date,\n",
    "#     y=signals.IR_ADC,\n",
    "#     name='IR_ADC'))\n",
    "# fig.update_xaxes(rangeslider_visible=True)\n",
    "# fig.show() # Uncomment if running locally\n",
    "\n",
    "# Trim first/last 5 minutes\n",
    "# Offset\n",
    "offset = pd.Timedelta(minutes=5)\n",
    "\n",
    "# Indexes\n",
    "idxs = (signals.index > offset) & \\\n",
    "       (signals.index < signals.index[-1] - offset)\n",
    "\n",
    "# Filter\n",
    "signals = signals[idxs]\n",
    "\n",
    "def bbpf_rep(s):\n",
    "    \"\"\"Butter Band Pass Filter Scipy\n",
    "\n",
    "    This is equivalent to the BandPassFilter() class implemented\n",
    "    in the vital_sqi package. Need to understand the difference\n",
    "    between filtfilt and lfilter.\n",
    "\n",
    "    There is no need to compute the nyquist frequency. We can\n",
    "    just pass the frequency sample and scipy will adjust the\n",
    "    cutoff frequencies according to the nyquist theorem:\n",
    "\n",
    "                f = f / 0.5*fs\n",
    "\n",
    "    Note that scipy has also a bandpass filter (btype=band) but\n",
    "    it is not possible to choose different orders for the high\n",
    "    pass and low pass filters.\n",
    "    \"\"\"\n",
    "    from scipy import signal\n",
    "    # Configure high/low filters\n",
    "    bh, ah = signal.butter(1, 1, fs=fs, btype='high', analog=False)\n",
    "    bl, al = signal.butter(4, 20, fs=fs, btype='low', analog=False)\n",
    "    # Apply filters\n",
    "    aux = signal.filtfilt(bh, ah, s)\n",
    "    aux = signal.lfilter(bl, al, aux)\n",
    "    # Return\n",
    "    return aux\n",
    "\n",
    "\n",
    "# Add vital signals\n",
    "signals['PLETH_BPF'] = bbpf_rep(signals.PLETH)\n",
    "\n",
    "# Show\n",
    "# print(\"\\nSignals (all):\")\n",
    "# signals\n",
    "#\n",
    "# if TERMINAL:\n",
    "#     print(signals)\n",
    "\n",
    "# Compute SQIs\n",
    "import vital_sqi.sqi as sq\n",
    "\n",
    "\n",
    "def snr(x, axis=0, ddof=0):\n",
    "    \"\"\"Signal to noise ratio\"\"\"\n",
    "    a = np.asanyarray(x)\n",
    "    m = a.mean(axis)\n",
    "    sd = a.std(axis=axis, ddof=ddof)\n",
    "    return np.where(sd == 0, 0, m / sd)\n",
    "\n",
    "\n",
    "def zcr(x):\n",
    "    \"\"\"Zero crossing rate\"\"\"\n",
    "    return 0.5 * np.mean(np.abs(np.diff(np.sign(x))))\n",
    "\n",
    "\n",
    "def mcr(x):\n",
    "    \"\"\"Mean crossing rate\"\"\"\n",
    "    return zcr(x - np.mean(x))\n",
    "\n",
    "\n",
    "def perfusion(x, y):\n",
    "    \"\"\"Perfusion\n",
    "\n",
    "    Parameters\n",
    "    ----------\n",
    "    x: raw signal\n",
    "    y: filtered signal\n",
    "    \"\"\"\n",
    "    return (np.max(y) - np.min(y)) / np.abs(np.mean(x)) * 100\n",
    "\n",
    "\n",
    "def correlogram(x):\n",
    "    \"\"\"Correlogram\"\"\"\n",
    "    return sq.rpeaks_sqi.correlogram_sqi(x)\n",
    "\n",
    "\n",
    "def msq(x):\n",
    "    \"\"\"Mean signal quality (is this the acronym?)\n",
    "\n",
    "    Feedback for the package:\n",
    "      The msq_sqi should also allow to receive two peak detector\n",
    "      ids as input parameters. At the moment only allows a list\n",
    "      of peaks and a peak detector id.\n",
    "    \"\"\"\n",
    "    # Library\n",
    "    from vital_sqi.common.rpeak_detection import PeakDetector\n",
    "    # Detection of peaks\n",
    "    detector = PeakDetector()\n",
    "    peak_list, trough_list = detector.ppg_detector(x, 7)\n",
    "    # Return\n",
    "    return sq.standard_sqi.msq_sqi(x, peaks_1=peak_list, peak_detect2=6)\n",
    "\n",
    "\n",
    "def dtw(x):\n",
    "    \"\"\"Dynamic time warping\n",
    "\n",
    "    .. note: It is very slow!!\n",
    "\n",
    "    Returns\n",
    "    -------\n",
    "    [mean, std]\n",
    "    \"\"\"\n",
    "    # Library\n",
    "    from vital_sqi.common.rpeak_detection import PeakDetector\n",
    "    # Detection of peaks\n",
    "    detector = PeakDetector()\n",
    "    peak_list, trough_list = detector.ppg_detector(x, 7)\n",
    "    # Per beats\n",
    "    dtw_list = sq.standard_sqi.per_beat_sqi( \\\n",
    "        sqi_func=sq.dtw_sqi, troughs=trough_list,\n",
    "        signal=x, taper=True, template_type=1\n",
    "    )\n",
    "    # Return mean\n",
    "    return [np.mean(dtw_list),\n",
    "            np.std(dtw_list)]\n",
    "\n",
    "\n",
    "def sqi_all(x):\n",
    "    \"\"\"Compute all SQIs.\n",
    "\n",
    "    .. note: If some variables are required for different\n",
    "             SQIS (e.g. detecting the peaks), it might be\n",
    "             possible to save some time by computing them\n",
    "             first instead of having each method to compute\n",
    "             them within the method. There is a trade off\n",
    "             between the efficiency gained (depends on the\n",
    "             implementation of the PeakDetector) and the\n",
    "             the simplicity of the code and usage.\n",
    "    \"\"\"\n",
    "    # Information\n",
    "    dinfo = {\n",
    "        'first': x.idx.iloc[0],\n",
    "        'last': x.idx.iloc[-1],\n",
    "        'skew': skew(x['PLETH']),\n",
    "        'kurtosis': kurtosis(x['PLETH']),\n",
    "        'snr': snr(x['PLETH']),\n",
    "        'mcr': mcr(x['PLETH']),\n",
    "        'zcr': zcr(x['PLETH_BPF']),\n",
    "        'msq': msq(x['PLETH_BPF']),\n",
    "        'perfusion': perfusion(x['PLETH'], x['PLETH_BPF']),\n",
    "        'correlogram': correlogram(x['PLETH_BPF']),\n",
    "        # 'dtw': dtw(x['0_bbpf'])\n",
    "    }\n",
    "\n",
    "    # Return\n",
    "    return pd.Series(dinfo)\n",
    "\n",
    "# 1. use the method 'agg'\n",
    "# Group by 30s windows/aggregate\n",
    "sqis = signals \\\n",
    "    .groupby(pd.Grouper(freq='30s')) \\\n",
    "    .agg({'idx': ['first', 'last'],\n",
    "          'PLETH': [skew, kurtosis, snr, mcr],\n",
    "          'IR_ADC': [skew, kurtosis, snr, mcr],\n",
    "          'PLETH_BPF': [zcr, msq, correlogram]  # dtw]\n",
    "          })\n",
    "\n",
    "# .. note: We are assuming that the whole signal has been\n",
    "#          read in one chunk. This will not work if using\n",
    "#          batches, will window ids be necessary?\n",
    "# Add window id (if needed)\n",
    "sqis['w'] = np.arange(sqis.shape[0])\n",
    "\n",
    "# Show\n",
    "# print(\"\\nSQIs (agg):\")\n",
    "# sqis\n",
    "#\n",
    "# if TERMINAL:\n",
    "#     print(sqis)\n",
    "\n",
    "# 2. use 'apply' to compare\n",
    "# Group by 30s windows/apply\n",
    "sqis2 = signals \\\n",
    "    .groupby(pd.Grouper(freq='30s')) \\\n",
    "    .apply(sqi_all)\n",
    "\n",
    "# Show\n",
    "# print(\"\\nSQIs (apply):\")\n",
    "# sqis2\n",
    "#\n",
    "# if TERMINAL:\n",
    "#     print(sqis2)\n",
    "\n",
    "print('Data points used for clustering: sqis.PLETH')\n",
    "print(sqis.PLETH)"
   ],
   "metadata": {
    "collapsed": false,
    "pycharm": {
     "name": "#%%\n"
    }
   }
  },
  {
   "cell_type": "markdown",
   "source": [
    "## 2. K-Means clustering\n",
    "\n",
    "### 2.1. Data points from sqis.PLETH (10 clusters, 4 features)\n",
    "SQIs: skew, kurtosis, snr, mcr"
   ],
   "metadata": {
    "collapsed": false,
    "pycharm": {
     "name": "#%% md\n"
    }
   }
  },
  {
   "cell_type": "code",
   "execution_count": 2,
   "outputs": [
    {
     "name": "stdout",
     "output_type": "stream",
     "text": [
      "K-Means labels with number of clusters =  10\n",
      "[6 0 0 3 4 5 9 4 6 4 4 4 2 4 4 3 3 3 9 2 4 0 5 0 0 0 4 7 4 0 2 0 8 5 0 3 0\n",
      " 8 0 0 0 5 1 9 4 5 4]\n"
     ]
    }
   ],
   "source": [
    "n_clusters = 10\n",
    "kmeans = KMeans(n_clusters=n_clusters, n_init=100).fit(sqis.PLETH)\n",
    "print('K-Means labels with number of clusters = ', n_clusters)\n",
    "print(kmeans.labels_)"
   ],
   "metadata": {
    "collapsed": false,
    "pycharm": {
     "name": "#%%\n"
    }
   }
  },
  {
   "cell_type": "markdown",
   "source": [
    "### 2.2. Data points from sqis.PLETH (2 clusters, 4 features)\n",
    "SQIs: skew, kurtosis, snr, mcr\n",
    "\n",
    "Only one data point is categorised different from others."
   ],
   "metadata": {
    "collapsed": false,
    "pycharm": {
     "name": "#%% md\n"
    }
   }
  },
  {
   "cell_type": "code",
   "execution_count": 3,
   "outputs": [
    {
     "name": "stdout",
     "output_type": "stream",
     "text": [
      "K-Means labels with number of clusters =  2\n",
      "[0 0 0 0 0 0 0 0 0 0 0 0 0 0 0 0 0 0 0 0 0 0 0 0 0 0 0 0 0 0 0 0 0 0 0 0 0\n",
      " 0 0 0 0 0 1 0 0 0 0]\n"
     ]
    }
   ],
   "source": [
    "n_clusters = 2\n",
    "kmeans = KMeans(n_clusters=n_clusters, n_init=100).fit(sqis.PLETH)\n",
    "print('K-Means labels with number of clusters = ', n_clusters)\n",
    "print(kmeans.labels_)"
   ],
   "metadata": {
    "collapsed": false,
    "pycharm": {
     "name": "#%%\n"
    }
   }
  },
  {
   "cell_type": "markdown",
   "source": [
    "### 2.3. Data points from a subset of sqis.PLETH (3 clusters, 3 features)\n",
    "SQIs: skew, kurtosis, snr\n",
    "\n",
    "Note that the 3 clusters may represent 3 groups of Excellent, Acceptable, and Unfit.\n",
    "(2.6.2 of Omar Muttawa's manuscript)"
   ],
   "metadata": {
    "collapsed": false,
    "pycharm": {
     "name": "#%% md\n"
    }
   }
  },
  {
   "cell_type": "code",
   "execution_count": 4,
   "outputs": [
    {
     "name": "stdout",
     "output_type": "stream",
     "text": [
      "K-Means labels with number of clusters =  3\n",
      "[1 0 0 0 0 1 1 0 1 0 0 0 1 0 0 0 0 0 1 1 0 0 1 0 0 0 0 0 0 0 1 0 0 1 0 0 0\n",
      " 0 0 0 0 1 2 1 0 1 0]\n"
     ]
    },
    {
     "data": {
      "text/plain": "<Figure size 432x288 with 1 Axes>",
      "image/png": "[encoded data removed]"
     },
     "metadata": {
      "needs_background": "light"
     },
     "output_type": "display_data"
    }
   ],
   "source": [
    "sqis_datapoints = sqis.PLETH[[\"skew\", \"kurtosis\", \"snr\"]]\n",
    "\n",
    "n_clusters = 3\n",
    "kmeans = KMeans(n_clusters=n_clusters, n_init=100).fit(sqis_datapoints)\n",
    "print('K-Means labels with number of clusters = ', n_clusters)\n",
    "print(kmeans.labels_)\n",
    "\n",
    "fig = plt.figure()\n",
    "ax = Axes3D(fig, elev=30, azim=235)\n",
    "ax.scatter(sqis_datapoints[\"skew\"], sqis_datapoints[\"kurtosis\"], sqis_datapoints[\"snr\"],\n",
    "               c=kmeans.labels_.astype(float), edgecolor='k')\n",
    "ax.w_xaxis.set_ticklabels([])\n",
    "ax.w_yaxis.set_ticklabels([])\n",
    "ax.w_zaxis.set_ticklabels([])\n",
    "ax.set_xlabel('skew')\n",
    "ax.set_ylabel('kurtosis')\n",
    "ax.set_zlabel('snr')\n",
    "ax.dist = 12.5"
   ],
   "metadata": {
    "collapsed": false,
    "pycharm": {
     "name": "#%%\n"
    }
   }
  },
  {
   "cell_type": "markdown",
   "source": [
    "### 2.4. Data points from a subset of sqis.PLETH (2 clusters, 3 features)\n",
    "SQIs: skew, kurtosis, snr\n",
    "\n",
    "One outlier is salient in the plot."
   ],
   "metadata": {
    "collapsed": false,
    "pycharm": {
     "name": "#%% md\n"
    }
   }
  },
  {
   "cell_type": "code",
   "execution_count": 5,
   "outputs": [
    {
     "name": "stdout",
     "output_type": "stream",
     "text": [
      "K-Means labels with number of clusters =  2\n",
      "[0 0 0 0 0 0 0 0 0 0 0 0 0 0 0 0 0 0 0 0 0 0 0 0 0 0 0 0 0 0 0 0 0 0 0 0 0\n",
      " 0 0 0 0 0 1 0 0 0 0]\n"
     ]
    },
    {
     "data": {
      "text/plain": "<Figure size 432x288 with 1 Axes>",
      "image/png": "[encoded data removed]"
     },
     "metadata": {
      "needs_background": "light"
     },
     "output_type": "display_data"
    }
   ],
   "source": [
    "sqis_datapoints = sqis.PLETH[[\"skew\", \"kurtosis\", \"snr\"]]\n",
    "\n",
    "n_clusters = 2\n",
    "kmeans = KMeans(n_clusters=n_clusters, n_init=100).fit(sqis_datapoints)\n",
    "print('K-Means labels with number of clusters = ', n_clusters)\n",
    "print(kmeans.labels_)\n",
    "\n",
    "fig = plt.figure()\n",
    "ax = Axes3D(fig, elev=30, azim=235)\n",
    "ax.scatter(sqis_datapoints[\"skew\"], sqis_datapoints[\"kurtosis\"], sqis_datapoints[\"snr\"],\n",
    "               c=kmeans.labels_.astype(float), edgecolor='k')\n",
    "ax.w_xaxis.set_ticklabels([])\n",
    "ax.w_yaxis.set_ticklabels([])\n",
    "ax.w_zaxis.set_ticklabels([])\n",
    "ax.set_xlabel('skew')\n",
    "ax.set_ylabel('kurtosis')\n",
    "ax.set_zlabel('snr')\n",
    "ax.dist = 12.5"
   ],
   "metadata": {
    "collapsed": false,
    "pycharm": {
     "name": "#%%\n"
    }
   }
  },
  {
   "cell_type": "markdown",
   "source": [
    "Elbow Method - Measures the Sum of Squared distance from data points to\n",
    "associated centroid. This value decreases as k increases.\n"
   ],
   "metadata": {
    "collapsed": false,
    "pycharm": {
     "name": "#%% md\n"
    }
   }
  }
 ],
 "metadata": {
  "kernelspec": {
   "display_name": "Python 3",
   "language": "python",
   "name": "python3"
  },
  "language_info": {
   "codemirror_mode": {
    "name": "ipython",
    "version": 2
   },
   "file_extension": ".py",
   "mimetype": "text/x-python",
   "name": "python",
   "nbconvert_exporter": "python",
   "pygments_lexer": "ipython2",
   "version": "2.7.6"
  }
 },
 "nbformat": 4,
 "nbformat_minor": 0
}