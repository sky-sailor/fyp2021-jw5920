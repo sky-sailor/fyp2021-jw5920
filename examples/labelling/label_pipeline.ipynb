{
 "cells": [
  {
   "cell_type": "markdown",
   "metadata": {
    "collapsed": true
   },
   "source": [
    "# PPG Labelling Pipeline\n",
    "\n",
    "## Signal analysis and classification of photoplethysmography (PPG) waveforms for predicting clinical outcomes\n",
    "\n",
    "### Data preparation\n",
    "First, import the packages and load the preprocessed SQI data."
   ]
  },
  {
   "cell_type": "code",
   "execution_count": 1,
   "outputs": [],
   "source": [
    "import pandas as pd\n",
    "from sklearn.cluster import KMeans\n",
    "\n",
    "# load preprocessed SQI\n",
    "n_sqi = 7\n",
    "sqi_saved = pd.read_csv(\"D:/IC Final Year Project/fyp2021-jw5920/saved_data/sqi2001_w30s_t5_pifix_inf100.csv\")\n",
    "sqi = sqi_saved.iloc[:, 3:3+n_sqi]"
   ],
   "metadata": {
    "collapsed": false
   }
  },
  {
   "cell_type": "code",
   "execution_count": 2,
   "outputs": [
    {
     "data": {
      "text/plain": "          skew  kurtosis       snr       mcr       zcr       msq  perfusion\n0     0.017467 -1.061797  2.167893  0.026676  0.026676  0.983607   1.317647\n1    -0.127305 -1.070029  2.046554  0.027009  0.027009  1.000000   1.297516\n2    -0.141853 -1.106994  1.985945  0.026676  0.026676  0.985294   1.356830\n3     0.090360 -1.036446  1.938733  0.026676  0.027342  0.987654   1.361558\n4    -0.057387 -1.120849  1.943913  0.027009  0.027009  0.987805   1.390162\n...        ...       ...       ...       ...       ...       ...        ...\n1851  0.168493 -1.046396  1.790733  0.027342  0.031344  0.988235   1.485164\n1852  0.148146 -0.968012  2.009115  0.027009  0.030343  0.987805   1.389328\n1853 -0.041231 -1.090684  2.092706  0.027009  0.027009  1.000000   1.256550\n1854  0.109539 -0.930700  1.937046  0.027009  0.031344  1.000000   1.352362\n1855  0.025496 -1.059558  2.007422  0.027081  0.029087  0.981481   1.349293\n\n[1856 rows x 7 columns]",
      "text/html": "<div>\n<style scoped>\n    .dataframe tbody tr th:only-of-type {\n        vertical-align: middle;\n    }\n\n    .dataframe tbody tr th {\n        vertical-align: top;\n    }\n\n    .dataframe thead th {\n        text-align: right;\n    }\n</style>\n<table border=\"1\" class=\"dataframe\">\n  <thead>\n    <tr style=\"text-align: right;\">\n      <th></th>\n      <th>skew</th>\n      <th>kurtosis</th>\n      <th>snr</th>\n      <th>mcr</th>\n      <th>zcr</th>\n      <th>msq</th>\n      <th>perfusion</th>\n    </tr>\n  </thead>\n  <tbody>\n    <tr>\n      <th>0</th>\n      <td>0.017467</td>\n      <td>-1.061797</td>\n      <td>2.167893</td>\n      <td>0.026676</td>\n      <td>0.026676</td>\n      <td>0.983607</td>\n      <td>1.317647</td>\n    </tr>\n    <tr>\n      <th>1</th>\n      <td>-0.127305</td>\n      <td>-1.070029</td>\n      <td>2.046554</td>\n      <td>0.027009</td>\n      <td>0.027009</td>\n      <td>1.000000</td>\n      <td>1.297516</td>\n    </tr>\n    <tr>\n      <th>2</th>\n      <td>-0.141853</td>\n      <td>-1.106994</td>\n      <td>1.985945</td>\n      <td>0.026676</td>\n      <td>0.026676</td>\n      <td>0.985294</td>\n      <td>1.356830</td>\n    </tr>\n    <tr>\n      <th>3</th>\n      <td>0.090360</td>\n      <td>-1.036446</td>\n      <td>1.938733</td>\n      <td>0.026676</td>\n      <td>0.027342</td>\n      <td>0.987654</td>\n      <td>1.361558</td>\n    </tr>\n    <tr>\n      <th>4</th>\n      <td>-0.057387</td>\n      <td>-1.120849</td>\n      <td>1.943913</td>\n      <td>0.027009</td>\n      <td>0.027009</td>\n      <td>0.987805</td>\n      <td>1.390162</td>\n    </tr>\n    <tr>\n      <th>...</th>\n      <td>...</td>\n      <td>...</td>\n      <td>...</td>\n      <td>...</td>\n      <td>...</td>\n      <td>...</td>\n      <td>...</td>\n    </tr>\n    <tr>\n      <th>1851</th>\n      <td>0.168493</td>\n      <td>-1.046396</td>\n      <td>1.790733</td>\n      <td>0.027342</td>\n      <td>0.031344</td>\n      <td>0.988235</td>\n      <td>1.485164</td>\n    </tr>\n    <tr>\n      <th>1852</th>\n      <td>0.148146</td>\n      <td>-0.968012</td>\n      <td>2.009115</td>\n      <td>0.027009</td>\n      <td>0.030343</td>\n      <td>0.987805</td>\n      <td>1.389328</td>\n    </tr>\n    <tr>\n      <th>1853</th>\n      <td>-0.041231</td>\n      <td>-1.090684</td>\n      <td>2.092706</td>\n      <td>0.027009</td>\n      <td>0.027009</td>\n      <td>1.000000</td>\n      <td>1.256550</td>\n    </tr>\n    <tr>\n      <th>1854</th>\n      <td>0.109539</td>\n      <td>-0.930700</td>\n      <td>1.937046</td>\n      <td>0.027009</td>\n      <td>0.031344</td>\n      <td>1.000000</td>\n      <td>1.352362</td>\n    </tr>\n    <tr>\n      <th>1855</th>\n      <td>0.025496</td>\n      <td>-1.059558</td>\n      <td>2.007422</td>\n      <td>0.027081</td>\n      <td>0.029087</td>\n      <td>0.981481</td>\n      <td>1.349293</td>\n    </tr>\n  </tbody>\n</table>\n<p>1856 rows × 7 columns</p>\n</div>"
     },
     "execution_count": 2,
     "metadata": {},
     "output_type": "execute_result"
    }
   ],
   "source": [
    "sqi"
   ],
   "metadata": {
    "collapsed": false
   }
  },
  {
   "cell_type": "markdown",
   "source": [
    "### Clustering based on similarity"
   ],
   "metadata": {
    "collapsed": false
   }
  },
  {
   "cell_type": "code",
   "execution_count": 3,
   "outputs": [
    {
     "name": "stdout",
     "output_type": "stream",
     "text": [
      "K-Means labels with number of clusters =  3\n",
      "[0 0 0 ... 0 0 0]\n"
     ]
    }
   ],
   "source": [
    "# clustering by KMeans\n",
    "n_clusters = 3\n",
    "ae_kmeans = KMeans(n_clusters=n_clusters, n_init=100).fit(sqi)\n",
    "print('K-Means labels with number of clusters = ', n_clusters)\n",
    "print(ae_kmeans.labels_)"
   ],
   "metadata": {
    "collapsed": false
   }
  }
 ],
 "metadata": {
  "kernelspec": {
   "display_name": "Python 3",
   "language": "python",
   "name": "python3"
  },
  "language_info": {
   "codemirror_mode": {
    "name": "ipython",
    "version": 2
   },
   "file_extension": ".py",
   "mimetype": "text/x-python",
   "name": "python",
   "nbconvert_exporter": "python",
   "pygments_lexer": "ipython2",
   "version": "2.7.6"
  }
 },
 "nbformat": 4,
 "nbformat_minor": 0
}
